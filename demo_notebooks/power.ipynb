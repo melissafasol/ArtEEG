{
 "cells": [
  {
   "cell_type": "code",
   "execution_count": 25,
   "id": "984f398c",
   "metadata": {},
   "outputs": [],
   "source": [
    "import os \n",
    "import sys\n",
    "import numpy as np\n",
    "import pandas as pd\n",
    "import artifactdetection as ad"
   ]
  },
  {
   "cell_type": "markdown",
   "id": "19115381",
   "metadata": {},
   "source": [
    "### This notebook shows how to run Power calculations (following on from the Preprocessing notebook)"
   ]
  },
  {
   "cell_type": "markdown",
   "id": "a01faa51",
   "metadata": {},
   "source": [
    "**To run the power analysis, you need to input the following:**\n",
    "1. Path to .npy recording files and .pkl brain state files (they should be in the same folder) \n",
    "2. Path to save power analysis \n",
    "3. Which channel idx to run analysis on (chan_idx)\n",
    "4. Dictionary of start and end times for each recording \n",
    "5. Overall list of animal ids \n",
    "6. If some recordings have two brain state files for each recording and others only have one, separate those into two separate lists\n",
    "\n",
    "**An example is shown below with the described inputs**"
   ]
  },
  {
   "cell_type": "markdown",
   "id": "3cf88cbc",
   "metadata": {},
   "source": [
    "### Required inputs"
   ]
  },
  {
   "cell_type": "markdown",
   "id": "92069e84",
   "metadata": {},
   "source": [
    "1. Path to .npy recordings and .pkl files "
   ]
  },
  {
   "cell_type": "code",
   "execution_count": 6,
   "id": "3040a176",
   "metadata": {},
   "outputs": [],
   "source": [
    "directory_path = '/home/melissa/PREPROCESSING/SYNGAP1/numpyformat_baseline/'"
   ]
  },
  {
   "cell_type": "markdown",
   "id": "6f3cd6de",
   "metadata": {},
   "source": [
    "2. Path to where power analysis should be saved "
   ]
  },
  {
   "cell_type": "code",
   "execution_count": 20,
   "id": "2e622979",
   "metadata": {},
   "outputs": [],
   "source": [
    "save_folder = '/home/melissa/PREPROCESSING/ArtifactDetectTest/Power/'"
   ]
  },
  {
   "cell_type": "markdown",
   "id": "654972b3",
   "metadata": {},
   "source": [
    "3. Channel idx to select out, write a for loop to calculate more than one channel idx"
   ]
  },
  {
   "cell_type": "code",
   "execution_count": 8,
   "id": "ca2ca881",
   "metadata": {},
   "outputs": [],
   "source": [
    " chan_idx = 2"
   ]
  },
  {
   "cell_type": "markdown",
   "id": "9c46142d",
   "metadata": {},
   "source": [
    "4. Dictionary of start and end times for each recording"
   ]
  },
  {
   "cell_type": "code",
   "execution_count": 10,
   "id": "85da685e",
   "metadata": {},
   "outputs": [],
   "source": [
    "SYNGAP_baseline_start = {'S7063_1': 15324481, 'S7063_2': 36959041, \n",
    "                       'S7064_1': 15324481, 'S7064_2':36959041,\n",
    "                       'S7068_1': 12214513,\n",
    "                       'S7069_1': 12214513, 'S7069_2':33849073,\n",
    "                       'S7070_1': 16481329, 'S7070_2':38115889,\n",
    "                       'S7071_1': 16481329, 'S7071_2':38115888,\n",
    "                       'S7072_1': 16481329, 'S7072_2': 38115889,\n",
    "                       'S7074_1': 35862289,\n",
    "                       'S7075_1': 14227729,\n",
    "                       'S7076_1': 17578081,\n",
    "                       'S7083_1': 17578081, 'S7083_2':39212641,\n",
    "                       'S7086_1': 12830497, 'S7086_2': 34465057,\n",
    "                       'S7087_1': 39723457,\n",
    "                       'S7088_1': 18088897, \n",
    "                       'S7091_1': 15369553, 'S7091_2': 37004113,\n",
    "                       'S7092_1': 15369553,\n",
    "                       'S7094_1': 34465057, \n",
    "                       'S7096_1': 34465057, 'S7096_2':56054794,\n",
    "                       'S7098_1': 35246305, 'S7098_2':56880865,\n",
    "                       'S7101_1': 35246305, 'S7101_2':56880864}\n",
    "\n",
    "\n",
    "SYNGAP_baseline_end = {'S7063_1A': 36959040, 'S7063_2A': 58593600, \n",
    "                       'S7064_1A': 36959040, 'S7064_2A': 58593600,\n",
    "                       'S7068_1A': 33849072,\n",
    "                       'S7069_1A': 33849072, 'S7069_2A': 55483632,\n",
    "                       'S7070_1A': 38115888, 'S7070_2A': 59750448,\n",
    "                       'S7071_1A': 38115888, 'S7071_2A': 59750448,\n",
    "                       'S7072_1A': 38115888, 'S7072_2A': 59750448,\n",
    "                       'S7074_1A': 57496848,\n",
    "                       'S7075_1A': 35862288,\n",
    "                       'S7076_1A': 39212640,\n",
    "                       'S7083_1A': 39212640, 'S7083_2A': 60847200,\n",
    "                       'S7086_1A': 34465056, 'S7086_2A': 56099616,\n",
    "                       'S7087_1A': 61358016,\n",
    "                       'S7088_1A': 39723456, \n",
    "                       'S7091_1A': 37004112, 'S7091_2A': 58638672,\n",
    "                       'S7092_1A': 37004112,\n",
    "                       'S7094_1A': 56099616,\n",
    "                       'S7096_1A': 56099616, 'S7096_2A': 77689353,\n",
    "                       'S7098_1A': 56880864, 'S7098_2A': 78515425,\n",
    "                       'S7101_1A': 56880864, 'S7101_2A': 78515424}"
   ]
  },
  {
   "cell_type": "markdown",
   "id": "cc7c60b0",
   "metadata": {},
   "source": [
    "5. & 6. List of all animals, and those which have two recordings or only one"
   ]
  },
  {
   "cell_type": "code",
   "execution_count": 13,
   "id": "9bf244db",
   "metadata": {},
   "outputs": [],
   "source": [
    "#list of all animals to process\n",
    "analysis_ls = ['S7088', 'S7092', 'S7086', 'S7063', 'S7064', 'S7069', 'S7070', 'S7072', 'S7086',\n",
    "               'S7091', 'S7101', 'S7094', 'S7096', 'S7098','S7068', 'S7074', 'S7075', 'S7071', 'S7076']\n",
    "#list of animals with 2 brain state files \n",
    "SYNGAP_2_ls =  ['S7086', 'S7096', 'S7070','S7072', 'S7063','S7064','S7069', 'S7086','S7091'] \n",
    "#list of animals with 1 brain state file\n",
    "SYNGAP_1_ls =  ['S7076', 'S7101', 'S7088', 'S7092', 'S7094' , 'S7098', 'S7068', 'S7074', 'S7076', 'S7071', 'S7075']"
   ]
  },
  {
   "cell_type": "markdown",
   "id": "b0cd3569",
   "metadata": {},
   "source": [
    "### Run power analysis"
   ]
  },
  {
   "cell_type": "code",
   "execution_count": 22,
   "id": "6dc21a07",
   "metadata": {},
   "outputs": [
    {
     "name": "stdout",
     "output_type": "stream",
     "text": [
      "S7088\n",
      "S7092\n",
      "S7086\n",
      "S7063\n",
      "S7064\n",
      "S7069\n",
      "S7070\n",
      "S7072\n",
      "S7086\n",
      "S7091\n",
      "S7101\n",
      "S7094\n",
      "S7096\n",
      "S7098\n",
      "S7068\n",
      "S7074\n",
      "S7075\n",
      "S7071\n",
      "S7076\n"
     ]
    }
   ],
   "source": [
    "for animal in analysis_ls:\n",
    "    print(animal)\n",
    "    load_files = ad.LoadFiles(directory_path = directory_path, animal_id = animal)\n",
    "    if animal in SYNGAP_2_ls:\n",
    "        num_epochs = 34560\n",
    "        ad.two_files(load_files = load_files, animal = animal, num_epochs = num_epochs, chan_idx = chan_idx,\n",
    "                  save_folder = save_folder, start_times_dict = SYNGAP_baseline_start, end_times_dict = SYNGAP_baseline_end)\n",
    "    if animal in SYNGAP_1_ls:\n",
    "        num_epochs = 17280\n",
    "        ad.one_file(load_files = load_files, animal = animal, num_epochs = num_epochs, chan_idx = chan_idx,\n",
    "                save_folder = save_folder, start_times_dict = SYNGAP_baseline_start, end_times_dict = SYNGAP_baseline_end)"
   ]
  }
 ],
 "metadata": {
  "kernelspec": {
   "display_name": "Python (new2024)",
   "language": "python",
   "name": "env2023"
  },
  "language_info": {
   "codemirror_mode": {
    "name": "ipython",
    "version": 3
   },
   "file_extension": ".py",
   "mimetype": "text/x-python",
   "name": "python",
   "nbconvert_exporter": "python",
   "pygments_lexer": "ipython3",
   "version": "3.8.19"
  }
 },
 "nbformat": 4,
 "nbformat_minor": 5
}
