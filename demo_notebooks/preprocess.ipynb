{
 "cells": [
  {
   "cell_type": "code",
   "execution_count": 8,
   "id": "19cc54f6",
   "metadata": {},
   "outputs": [],
   "source": [
    "import sys\n",
    "import os\n",
    "import pandas as pd\n",
    "import numpy as np\n",
    "import artifactdetection as ad"
   ]
  },
  {
   "cell_type": "markdown",
   "id": "426bf8f3",
   "metadata": {},
   "source": [
    "### Make sure recording files are in .npy and brain state files are in .pkl before applying artifactdetection functions"
   ]
  },
  {
   "cell_type": "markdown",
   "id": "a9e8fb8c",
   "metadata": {},
   "source": [
    "Apply the following functions to convert recording files from .dat files to .npy, and brainstate files from .xls to .pkl"
   ]
  },
  {
   "cell_type": "markdown",
   "id": "022d9f83",
   "metadata": {},
   "source": [
    "### 1. Convert .dat to .npy using the Preprocess class"
   ]
  },
  {
   "cell_type": "code",
   "execution_count": 2,
   "id": "4df24eb4",
   "metadata": {},
   "outputs": [],
   "source": [
    "#folder with unformatted .dat files \n",
    "raw_rec_folder = '/home/melissa/PREPROCESSING/ArtifactDetectTest/raw_recording/' #folder path to unformatted files\n",
    "raw_file = [file for file in os.listdir(raw_rec_folder)] #list of file names to feed to preprocess\n",
    "save_path = '/home/melissa/PREPROCESSING/ArtifactDetectTest/formatted_rec/' #folder path to save files"
   ]
  },
  {
   "cell_type": "markdown",
   "id": "1b67a51a",
   "metadata": {},
   "source": [
    "#### Loop through the files in the raw_file list and select an identifier to save the file as (e.g animal id)"
   ]
  },
  {
   "cell_type": "code",
   "execution_count": 7,
   "id": "e870d230",
   "metadata": {},
   "outputs": [
    {
     "name": "stdout",
     "output_type": "stream",
     "text": [
      "S7075\n",
      "data saved for S7075_Basline1-2020_03_24-0000.dat\n",
      "S7074\n",
      "data saved for S7074_Basline1-2020_03_24-0000.dat\n",
      "S7069\n",
      "data saved for S7069_Baseline-2020_02_10-0000.dat\n",
      "S7064\n",
      "data saved for S7064_Baseline1-2020_01_27-0000.dat\n",
      "S7071\n",
      "data saved for S7071_Baseline-2020_03_16-0000.dat\n",
      "S7070\n",
      "data saved for S7070_Baseline-2020_03_16-0000.dat\n",
      "S7063\n",
      "data saved for S7063_Baseline1-2020_01_27-0000.dat\n",
      "S7068\n",
      "data saved for S7068_Baseline-2020_02_10-0000.dat\n",
      "S7072\n",
      "data saved for S7072_Baseline-2020_03_16-0000.dat\n"
     ]
    }
   ],
   "source": [
    "for file in raw_file:\n",
    "    animal_id = file[0:5] #keep track of animal id of original .dat file and pass to save_as argument to save the correct animal id\n",
    "    if animal_id == '.ipyn': \n",
    "        pass\n",
    "    else:\n",
    "        print(animal_id)\n",
    "        preprocess = ad.Preprocess(raw_folder = raw_rec_folder, raw_file = file, save_fold_path = save_path, save_as = animal_id)\n",
    "        preprocess.convert_dat_to_npy()"
   ]
  },
  {
   "cell_type": "markdown",
   "id": "abf01987",
   "metadata": {},
   "source": [
    "### 2. Convert .xls to .pkl "
   ]
  },
  {
   "cell_type": "code",
   "execution_count": 4,
   "id": "6f2c6923",
   "metadata": {},
   "outputs": [],
   "source": [
    "#folder with unformatted brain state (.xls) files \n",
    "unformatted_br_folder = '/home/melissa/PREPROCESSING/ArtifactDetectTest/raw_br/'\n",
    "unformatted_file = [file for file in os.listdir(unformatted_br_folder)] #list of file names to feed to preprocess\n",
    "save_br_path = '/home/melissa/PREPROCESSING/ArtifactDetectTest/formatted_br/' #folder path to save files"
   ]
  },
  {
   "cell_type": "code",
   "execution_count": 6,
   "id": "90798976",
   "metadata": {},
   "outputs": [
    {
     "name": "stdout",
     "output_type": "stream",
     "text": [
      "S7071_BL1_States-real samp.xls\n",
      "brainstate file saved\n",
      "S7094_BL1_States-real samp.xls\n",
      "brainstate file saved\n",
      "S7072_BL1_States-real samp.xls\n",
      "brainstate file saved\n",
      "S7071_BL2_States-real samp.xls\n",
      "brainstate file saved\n",
      "S7068_BL1_States-real samp.xls\n",
      "brainstate file saved\n",
      "S7083_BL1_States-real samp.xls\n",
      "brainstate file saved\n",
      "S7072_BL2_States-real samp.xls\n",
      "brainstate file saved\n",
      "S7096_BL1_States-real samp.xls\n",
      "brainstate file saved\n",
      "S7069_BL1_States-real samp.xls\n",
      "brainstate file saved\n",
      "S7070_BL2_States-real samp.xls\n",
      "brainstate file saved\n",
      "S7076_BL2_States-real samp.xls\n",
      "brainstate file saved\n",
      "S7063_BL2_States-real samp.xls\n",
      "brainstate file saved\n",
      "S7088_BL1_States-real samp.xls\n",
      "brainstate file saved\n",
      "S7086_BL2_States-real samp.xls\n",
      "brainstate file saved\n",
      "S7092_BL1_States-real samp.xls\n",
      "brainstate file saved\n",
      "S7070_BL1_States-real samp.xls\n",
      "brainstate file saved\n",
      "S7101_BL2_States-real samp.xls\n",
      "brainstate file saved\n",
      "S7087_BL2_States-real samp.xls\n",
      "brainstate file saved\n",
      "S7091_BL1_States-real samp.xls\n",
      "brainstate file saved\n",
      "S7063_BL1_States-real samp.xls\n",
      "brainstate file saved\n",
      "S7098_BL2_States-real samp.xls\n",
      "brainstate file saved\n",
      "S7091_BL2_States-real samp.xls\n",
      "brainstate file saved\n",
      "S7064_BL1_States-real samp.xls\n",
      "brainstate file saved\n",
      "S7075_BL1_States-real samp.xls\n",
      "brainstate file saved\n",
      "S7101_BL1_States-real samp.xls\n",
      "brainstate file saved\n",
      "S7098_BL1_States-real samp.xls\n",
      "brainstate file saved\n",
      "S7064_BL2_States-real samp.xls\n",
      "brainstate file saved\n",
      "S7086_BL1_States-real samp.xls\n",
      "brainstate file saved\n",
      "S7096_BL2_States-real samp.xls\n",
      "brainstate file saved\n",
      "S7069_BL2_States-real samp.xls\n",
      "brainstate file saved\n",
      "S7074_BL1_States-real samp.xls\n",
      "brainstate file saved\n",
      "S7083_BL2_States-real samp.xls\n",
      "brainstate file saved\n"
     ]
    }
   ],
   "source": [
    "for file in unformatted_file:\n",
    "    print(file)\n",
    "    br_id = file[0:9]\n",
    "    ad.reformat_br_file(unformatted_folder = unformatted_br_folder, unformatted_file = file, save_folder = save_br_path,\n",
    "                       save_as = br_id)"
   ]
  },
  {
   "cell_type": "code",
   "execution_count": null,
   "id": "9914aae8",
   "metadata": {},
   "outputs": [],
   "source": []
  }
 ],
 "metadata": {
  "kernelspec": {
   "display_name": "Python (new2024)",
   "language": "python",
   "name": "env2023"
  },
  "language_info": {
   "codemirror_mode": {
    "name": "ipython",
    "version": 3
   },
   "file_extension": ".py",
   "mimetype": "text/x-python",
   "name": "python",
   "nbconvert_exporter": "python",
   "pygments_lexer": "ipython3",
   "version": "3.8.19"
  }
 },
 "nbformat": 4,
 "nbformat_minor": 5
}
